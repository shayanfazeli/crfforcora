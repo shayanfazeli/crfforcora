{
 "cells": [
  {
   "cell_type": "code",
   "execution_count": 1,
   "metadata": {},
   "outputs": [],
   "source": [
    "from itertools import chain\n",
    "import nltk\n",
    "from sklearn.metrics import classification_report, confusion_matrix\n",
    "from sklearn.preprocessing import LabelBinarizer\n",
    "import sklearn\n",
    "import pycrfsuite\n",
    "import pickle\n",
    "import pdb"
   ]
  },
  {
   "cell_type": "code",
   "execution_count": 2,
   "metadata": {},
   "outputs": [],
   "source": [
    "data = pickle.load(open('./data/restructured_dataset.pkl', 'rb'))"
   ]
  },
  {
   "cell_type": "code",
   "execution_count": 3,
   "metadata": {},
   "outputs": [],
   "source": [
    "def process_label(label):\n",
    "    if label[0] == '/':\n",
    "        return label.split('/')[1]\n",
    "    else:\n",
    "        return label"
   ]
  },
  {
   "cell_type": "code",
   "execution_count": 4,
   "metadata": {},
   "outputs": [],
   "source": [
    "# another prototype\n",
    "features = []\n",
    "labels = []\n",
    "ids = []\n",
    "\n",
    "test_nodes = []\n",
    "minimum_number_of_test_nodes_wanted = 100\n",
    "treat_as_test_node = False\n",
    "for citing_id in data['edges'].keys():\n",
    "    cited_ids = data['edges'][citing_id]\n",
    "    if len(test_nodes) < minimum_number_of_test_nodes_wanted:\n",
    "        treat_as_test_node = True\n",
    "    if citing_id in data['features_for_id'].keys() and citing_id in data['label_for_id'].keys():\n",
    "        for i in range(len(cited_ids)):\n",
    "            if cited_ids[i] in data['features_for_id'].keys() and cited_ids[i] in data['label_for_id'].keys():\n",
    "                ids.append([citing_id, cited_ids[i]])\n",
    "                the_elements = [\n",
    "                    data['features_for_id'][citing_id], data['features_for_id'][cited_ids[i]]\n",
    "                ]\n",
    "                the_labels = [\n",
    "                    process_label(data['label_for_id'][citing_id]), process_label(data['label_for_id'][cited_ids[i]])\n",
    "                ]\n",
    "                if the_labels[0] != \"NOLABEL\" and the_labels[1] != \"NOLABEL\":\n",
    "                    features.append(the_elements)\n",
    "                    labels.append(the_labels)\n",
    "                    if treat_as_test_node:\n",
    "                        test_nodes += [citing_id, cited_ids[i]]\n",
    "                        test_nodes = list(set(test_nodes))\n",
    "    treat_as_test_node = False"
   ]
  },
  {
   "cell_type": "raw",
   "metadata": {},
   "source": [
    "# Generates features and labels\n",
    "\n",
    "features = []\n",
    "labels = []\n",
    "\n",
    "for citing_id in data['edges'].keys():\n",
    "    cited_ids = data['edges'][citing_id]\n",
    "    if citing_id in data['features_for_id'].keys() and citing_id in data['label_for_id'].keys():\n",
    "        for i in range(len(cited_ids)):\n",
    "            if cited_ids[i] in data['features_for_id'].keys() and cited_ids[i] in data['label_for_id'].keys():\n",
    "                the_elements = [\n",
    "                    data['features_for_id'][citing_id], data['features_for_id'][cited_ids[i]]\n",
    "                ]\n",
    "                the_labels = [\n",
    "                    process_label(data['label_for_id'][citing_id]), process_label(data['label_for_id'][cited_ids[i]])\n",
    "                ]\n",
    "                # Exclude NOLABEL\n",
    "                if the_labels[0] is not \"NOLABEL\" and the_labels[1] is not \"NOLABEL\":\n",
    "                    features.append(the_elements)\n",
    "                    labels.append(the_labels)\n",
    "                "
   ]
  },
  {
   "cell_type": "code",
   "execution_count": 5,
   "metadata": {},
   "outputs": [
    {
     "data": {
      "text/plain": [
       "35788"
      ]
     },
     "execution_count": 5,
     "metadata": {},
     "output_type": "execute_result"
    }
   ],
   "source": [
    "len(data['edges'].keys())"
   ]
  },
  {
   "cell_type": "code",
   "execution_count": 6,
   "metadata": {},
   "outputs": [],
   "source": [
    "def divide_to_test_and_train(features, labels, test_nodes=None, ids=None):\n",
    "    if test_nodes is None:\n",
    "        last_train_index = 80000\n",
    "        features_train = features[:last_train_index]\n",
    "        labels_train = labels[:last_train_index]\n",
    "        features_test = features[last_train_index:]\n",
    "        labels_test = labels[last_train_index:]\n",
    "    else:\n",
    "        assert(ids is not None)\n",
    "        features_train = []\n",
    "        labels_train = []\n",
    "        features_test = []\n",
    "        labels_test = []\n",
    "        \n",
    "        for i in range(len(features)):\n",
    "            if (ids[i][0] in test_nodes) or (ids[i][1] in test_nodes):\n",
    "                features_test.append(features[i])\n",
    "                labels_test.append(labels[i])\n",
    "            else:\n",
    "                features_train.append(features[i])\n",
    "                labels_train.append(labels[i])\n",
    "    return features_train, labels_train, features_test, labels_test"
   ]
  },
  {
   "cell_type": "code",
   "execution_count": 7,
   "metadata": {},
   "outputs": [],
   "source": [
    "features_train, labels_train, features_test, labels_test = divide_to_test_and_train(features, labels, test_nodes, ids)"
   ]
  },
  {
   "cell_type": "code",
   "execution_count": 8,
   "metadata": {},
   "outputs": [
    {
     "name": "stdout",
     "output_type": "stream",
     "text": [
      "CPU times: user 1.08 s, sys: 20.3 ms, total: 1.1 s\n",
      "Wall time: 1.1 s\n"
     ]
    }
   ],
   "source": [
    "%%time\n",
    "trainer = pycrfsuite.Trainer(verbose=False)\n",
    "\n",
    "for xseq, yseq in zip(features_train, labels_train):\n",
    "    try:\n",
    "        trainer.append(xseq, yseq)\n",
    "    except:\n",
    "        pdb.set_trace()"
   ]
  },
  {
   "cell_type": "code",
   "execution_count": 9,
   "metadata": {},
   "outputs": [],
   "source": [
    "trainer.set_params({\n",
    "    'c1': 1.0,   # coefficient for L1 penalty\n",
    "    'c2': 1e-3,  # coefficient for L2 penalty\n",
    "    'max_iterations': 50,  # stop earlier\n",
    "\n",
    "    # include transitions that are possible, but not observed\n",
    "    'feature.possible_transitions': True\n",
    "})"
   ]
  },
  {
   "cell_type": "code",
   "execution_count": 10,
   "metadata": {},
   "outputs": [
    {
     "data": {
      "text/plain": [
       "['feature.minfreq',\n",
       " 'feature.possible_states',\n",
       " 'feature.possible_transitions',\n",
       " 'c1',\n",
       " 'c2',\n",
       " 'max_iterations',\n",
       " 'num_memories',\n",
       " 'epsilon',\n",
       " 'period',\n",
       " 'delta',\n",
       " 'linesearch',\n",
       " 'max_linesearch']"
      ]
     },
     "execution_count": 10,
     "metadata": {},
     "output_type": "execute_result"
    }
   ],
   "source": [
    "trainer.params()"
   ]
  },
  {
   "cell_type": "code",
   "execution_count": 11,
   "metadata": {},
   "outputs": [
    {
     "name": "stdout",
     "output_type": "stream",
     "text": [
      "CPU times: user 3.96 s, sys: 82.7 ms, total: 4.04 s\n",
      "Wall time: 4.06 s\n"
     ]
    }
   ],
   "source": [
    "%%time\n",
    "trainer.train('cora.crfsuite')"
   ]
  },
  {
   "cell_type": "code",
   "execution_count": 12,
   "metadata": {},
   "outputs": [
    {
     "name": "stdout",
     "output_type": "stream",
     "text": [
      "-rw-r--r--  1 davina  staff   1.2M Mar 18 17:21 ./cora.crfsuite\n"
     ]
    }
   ],
   "source": [
    "!ls -lh ./cora.crfsuite"
   ]
  },
  {
   "cell_type": "code",
   "execution_count": 13,
   "metadata": {},
   "outputs": [
    {
     "data": {
      "text/plain": [
       "{'num': 50,\n",
       " 'scores': {},\n",
       " 'loss': 17764.00572,\n",
       " 'feature_norm': 141.38742,\n",
       " 'error_norm': 143.218606,\n",
       " 'active_features': 18353,\n",
       " 'linesearch_trials': 1,\n",
       " 'linesearch_step': 1.0,\n",
       " 'time': 0.066}"
      ]
     },
     "execution_count": 13,
     "metadata": {},
     "output_type": "execute_result"
    }
   ],
   "source": [
    "trainer.logparser.last_iteration"
   ]
  },
  {
   "cell_type": "code",
   "execution_count": 14,
   "metadata": {},
   "outputs": [
    {
     "data": {
      "text/plain": [
       "<contextlib.closing at 0x1a2a1777f0>"
      ]
     },
     "execution_count": 14,
     "metadata": {},
     "output_type": "execute_result"
    }
   ],
   "source": [
    "tagger = pycrfsuite.Tagger()\n",
    "tagger.open('cora.crfsuite')"
   ]
  },
  {
   "cell_type": "code",
   "execution_count": 15,
   "metadata": {},
   "outputs": [
    {
     "name": "stdout",
     "output_type": "stream",
     "text": [
      "Top likely transitions:\n",
      "Artificial_Intelligence -> Artificial_Intelligence 4.801341\n",
      "Programming -> Programming 2.313652\n",
      "Hardware_and_Architecture -> Hardware_and_Architecture 2.099289\n",
      "Encryption_and_Compression -> Encryption_and_Compression 2.080741\n",
      "Networking -> Networking 2.076263\n",
      "Data_Structures__Algorithms_and_Theory -> Data_Structures__Algorithms_and_Theory 1.884011\n",
      "Information_Retrieval -> Information_Retrieval 1.868383\n",
      "Human_Computer_Interaction -> Human_Computer_Interaction 1.846793\n",
      "Databases -> Databases 1.758569\n",
      "Information_Retrieval -> Artificial_Intelligence 1.340177\n",
      "Data_Structures__Algorithms_and_Theory -> Artificial_Intelligence 1.300631\n",
      "Artificial_Intelligence -> Information_Retrieval 1.240355\n",
      "Artificial_Intelligence -> Data_Structures__Algorithms_and_Theory 1.141417\n",
      "Artificial_Intelligence -> Programming 1.060729\n",
      "Programming -> Artificial_Intelligence 1.057742\n",
      "\n",
      "Top unlikely transitions:\n",
      "Networking -> Databases -1.138574\n",
      "Databases -> Networking -1.171651\n",
      "Encryption_and_Compression -> Information_Retrieval -1.198529\n",
      "Encryption_and_Compression -> Databases -1.259997\n",
      "Hardware_and_Architecture -> Human_Computer_Interaction -1.276981\n",
      "Information_Retrieval -> Hardware_and_Architecture -1.334173\n",
      "Databases -> Hardware_and_Architecture -1.379407\n",
      "Encryption_and_Compression -> Hardware_and_Architecture -1.401861\n",
      "Programming -> Information_Retrieval -1.446535\n",
      "Information_Retrieval -> Operating_Systems -1.568920\n",
      "Data_Structures__Algorithms_and_Theory -> Information_Retrieval -1.618090\n",
      "Operating_Systems -> Information_Retrieval -1.738250\n",
      "Hardware_and_Architecture -> Information_Retrieval -1.748248\n",
      "Information_Retrieval -> Data_Structures__Algorithms_and_Theory -2.098352\n",
      "Hardware_and_Architecture -> Encryption_and_Compression -2.154321\n"
     ]
    }
   ],
   "source": [
    "from collections import Counter\n",
    "info = tagger.info()\n",
    "\n",
    "def print_transitions(trans_features):\n",
    "    for (label_from, label_to), weight in trans_features:\n",
    "        print(\"%-6s -> %-7s %0.6f\" % (label_from, label_to, weight))\n",
    "\n",
    "print(\"Top likely transitions:\")\n",
    "print_transitions(Counter(info.transitions).most_common(15))\n",
    "\n",
    "print(\"\\nTop unlikely transitions:\")\n",
    "print_transitions(Counter(info.transitions).most_common()[-15:])"
   ]
  },
  {
   "cell_type": "code",
   "execution_count": 16,
   "metadata": {},
   "outputs": [],
   "source": [
    "def full_classification_report(y_true, y_pred):\n",
    "    lb = LabelBinarizer()\n",
    "    y_true_combined = lb.fit_transform(list(chain.from_iterable(y_true)))\n",
    "    y_pred_combined = lb.transform(list(chain.from_iterable(y_pred)))\n",
    "        \n",
    "    tagset = set(lb.classes_) - {'O'}\n",
    "    tagset = sorted(tagset, key=lambda tag: tag.split('-', 1)[::-1])\n",
    "    class_indices = {cls: idx for idx, cls in enumerate(lb.classes_)}\n",
    "    \n",
    "    return classification_report(\n",
    "        y_true_combined,\n",
    "        y_pred_combined,\n",
    "        labels = [class_indices[cls] for cls in tagset],\n",
    "        target_names = tagset,\n",
    "    )"
   ]
  },
  {
   "cell_type": "code",
   "execution_count": 17,
   "metadata": {},
   "outputs": [
    {
     "name": "stdout",
     "output_type": "stream",
     "text": [
      "CPU times: user 32.2 ms, sys: 5.33 ms, total: 37.6 ms\n",
      "Wall time: 36.2 ms\n"
     ]
    }
   ],
   "source": [
    "%%time\n",
    "y_pred = [tagger.tag(xseq) for xseq in features_test]"
   ]
  },
  {
   "cell_type": "code",
   "execution_count": 18,
   "metadata": {},
   "outputs": [
    {
     "name": "stdout",
     "output_type": "stream",
     "text": [
      "                                        precision    recall  f1-score   support\n",
      "\n",
      "               Artificial_Intelligence       0.94      0.98      0.96      1040\n",
      "Data_Structures__Algorithms_and_Theory       0.96      0.93      0.94       281\n",
      "                             Databases       0.97      0.96      0.97       133\n",
      "            Encryption_and_Compression       0.94      0.85      0.89       138\n",
      "             Hardware_and_Architecture       0.98      0.81      0.89        78\n",
      "            Human_Computer_Interaction       0.88      0.90      0.89       166\n",
      "                 Information_Retrieval       0.93      0.80      0.86        35\n",
      "                            Networking       0.90      0.96      0.93       139\n",
      "                     Operating_Systems       0.97      0.92      0.95       442\n",
      "                           Programming       0.96      0.96      0.96       454\n",
      "\n",
      "                             micro avg       0.94      0.94      0.94      2906\n",
      "                             macro avg       0.94      0.91      0.92      2906\n",
      "                          weighted avg       0.95      0.94      0.94      2906\n",
      "                           samples avg       0.94      0.94      0.94      2906\n",
      "\n"
     ]
    }
   ],
   "source": [
    "print(full_classification_report(labels_test, y_pred))"
   ]
  }
 ],
 "metadata": {
  "kernelspec": {
   "display_name": "Python 3",
   "language": "python",
   "name": "python3"
  },
  "language_info": {
   "codemirror_mode": {
    "name": "ipython",
    "version": 3
   },
   "file_extension": ".py",
   "mimetype": "text/x-python",
   "name": "python",
   "nbconvert_exporter": "python",
   "pygments_lexer": "ipython3",
   "version": "3.6.8"
  },
  "toc": {
   "base_numbering": 1,
   "nav_menu": {},
   "number_sections": true,
   "sideBar": true,
   "skip_h1_title": false,
   "title_cell": "Table of Contents",
   "title_sidebar": "Contents",
   "toc_cell": false,
   "toc_position": {},
   "toc_section_display": true,
   "toc_window_display": false
  },
  "varInspector": {
   "cols": {
    "lenName": 16,
    "lenType": 16,
    "lenVar": 40
   },
   "kernels_config": {
    "python": {
     "delete_cmd_postfix": "",
     "delete_cmd_prefix": "del ",
     "library": "var_list.py",
     "varRefreshCmd": "print(var_dic_list())"
    },
    "r": {
     "delete_cmd_postfix": ") ",
     "delete_cmd_prefix": "rm(",
     "library": "var_list.r",
     "varRefreshCmd": "cat(var_dic_list()) "
    }
   },
   "types_to_exclude": [
    "module",
    "function",
    "builtin_function_or_method",
    "instance",
    "_Feature"
   ],
   "window_display": false
  }
 },
 "nbformat": 4,
 "nbformat_minor": 2
}
