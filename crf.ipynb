{
 "cells": [
  {
   "cell_type": "code",
   "execution_count": 1,
   "metadata": {},
   "outputs": [],
   "source": [
    "from itertools import chain\n",
    "import nltk\n",
    "from sklearn.metrics import classification_report, confusion_matrix\n",
    "from sklearn.preprocessing import LabelBinarizer\n",
    "import sklearn\n",
    "import pycrfsuite\n",
    "import pickle\n",
    "import pdb"
   ]
  },
  {
   "cell_type": "code",
   "execution_count": 2,
   "metadata": {},
   "outputs": [],
   "source": [
    "data = pickle.load(open('./data/restructured_dataset.pkl', 'rb'))"
   ]
  },
  {
   "cell_type": "code",
   "execution_count": 3,
   "metadata": {},
   "outputs": [],
   "source": [
    "def process_label(label):\n",
    "    if label[0] == '/':\n",
    "        return label.split('/')[1]\n",
    "    else:\n",
    "        return label"
   ]
  },
  {
   "cell_type": "code",
   "execution_count": 4,
   "metadata": {},
   "outputs": [],
   "source": [
    "# another prototype\n",
    "features = []\n",
    "labels = []\n",
    "ids = []\n",
    "\n",
    "test_nodes = []\n",
    "minimum_number_of_test_nodes_wanted = 100\n",
    "treat_as_test_node = False\n",
    "for citing_id in data['edges'].keys():\n",
    "    cited_ids = data['edges'][citing_id]\n",
    "    if len(test_nodes) < minimum_number_of_test_nodes_wanted:\n",
    "        treat_as_test_node = True\n",
    "    if citing_id in data['features_for_id'].keys() and citing_id in data['label_for_id'].keys():\n",
    "        for i in range(len(cited_ids)):\n",
    "            if cited_ids[i] in data['features_for_id'].keys() and cited_ids[i] in data['label_for_id'].keys():\n",
    "                \n",
    "                the_elements = [\n",
    "                    data['features_for_id'][citing_id], data['features_for_id'][cited_ids[i]]\n",
    "                ]\n",
    "                the_labels = [\n",
    "                    process_label(data['label_for_id'][citing_id]), process_label(data['label_for_id'][cited_ids[i]])\n",
    "                ]\n",
    "                if the_labels[0] != \"NOLABEL\" and the_labels[1] != \"NOLABEL\":\n",
    "                    ids.append([citing_id, cited_ids[i]])\n",
    "                    features.append(the_elements)\n",
    "                    labels.append(the_labels)\n",
    "                    if treat_as_test_node:\n",
    "                        test_nodes += [citing_id, cited_ids[i]]\n",
    "                        test_nodes = list(set(test_nodes))\n",
    "    treat_as_test_node = False"
   ]
  },
  {
   "cell_type": "raw",
   "metadata": {},
   "source": [
    "# Generates features and labels\n",
    "\n",
    "features = []\n",
    "labels = []\n",
    "\n",
    "for citing_id in data['edges'].keys():\n",
    "    cited_ids = data['edges'][citing_id]\n",
    "    if citing_id in data['features_for_id'].keys() and citing_id in data['label_for_id'].keys():\n",
    "        for i in range(len(cited_ids)):\n",
    "            if cited_ids[i] in data['features_for_id'].keys() and cited_ids[i] in data['label_for_id'].keys():\n",
    "                the_elements = [\n",
    "                    data['features_for_id'][citing_id], data['features_for_id'][cited_ids[i]]\n",
    "                ]\n",
    "                the_labels = [\n",
    "                    process_label(data['label_for_id'][citing_id]), process_label(data['label_for_id'][cited_ids[i]])\n",
    "                ]\n",
    "                # Exclude NOLABEL\n",
    "                if the_labels[0] is not \"NOLABEL\" and the_labels[1] is not \"NOLABEL\":\n",
    "                    features.append(the_elements)\n",
    "                    labels.append(the_labels)\n",
    "                "
   ]
  },
  {
   "cell_type": "code",
   "execution_count": 5,
   "metadata": {},
   "outputs": [
    {
     "data": {
      "text/plain": [
       "35788"
      ]
     },
     "execution_count": 5,
     "metadata": {},
     "output_type": "execute_result"
    }
   ],
   "source": [
    "len(data['edges'].keys())"
   ]
  },
  {
   "cell_type": "code",
   "execution_count": 6,
   "metadata": {},
   "outputs": [],
   "source": [
    "def divide_to_test_and_train(features, labels, test_nodes=None, ids=None):\n",
    "    if test_nodes is None:\n",
    "        last_train_index = 80000\n",
    "        features_train = features[:last_train_index]\n",
    "        labels_train = labels[:last_train_index]\n",
    "        features_test = features[last_train_index:]\n",
    "        labels_test = labels[last_train_index:]\n",
    "    else:\n",
    "        assert(ids is not None)\n",
    "        features_train = []\n",
    "        labels_train = []\n",
    "        features_test = []\n",
    "        labels_test = []\n",
    "        \n",
    "        for i in range(len(features)):\n",
    "            if (ids[i][0] in test_nodes) or (ids[i][1] in test_nodes):\n",
    "                features_test.append(features[i])\n",
    "                labels_test.append(labels[i])\n",
    "            else:\n",
    "                features_train.append(features[i])\n",
    "                labels_train.append(labels[i])\n",
    "    return features_train, labels_train, features_test, labels_test"
   ]
  },
  {
   "cell_type": "code",
   "execution_count": 7,
   "metadata": {},
   "outputs": [],
   "source": [
    "features_train, labels_train, features_test, labels_test = divide_to_test_and_train(features, labels, test_nodes, ids)"
   ]
  },
  {
   "cell_type": "code",
   "execution_count": 8,
   "metadata": {},
   "outputs": [
    {
     "name": "stdout",
     "output_type": "stream",
     "text": [
      "CPU times: user 683 ms, sys: 14.8 ms, total: 697 ms\n",
      "Wall time: 696 ms\n"
     ]
    }
   ],
   "source": [
    "%%time\n",
    "trainer = pycrfsuite.Trainer(verbose=False)\n",
    "\n",
    "for xseq, yseq in zip(features_train, labels_train):\n",
    "    try:\n",
    "        trainer.append(xseq, yseq)\n",
    "    except:\n",
    "        pdb.set_trace()"
   ]
  },
  {
   "cell_type": "code",
   "execution_count": 9,
   "metadata": {},
   "outputs": [],
   "source": [
    "trainer.set_params({\n",
    "    'c1': 1.0,   # coefficient for L1 penalty\n",
    "    'c2': 1e-3,  # coefficient for L2 penalty\n",
    "    'max_iterations': 50,  # stop earlier\n",
    "\n",
    "    # include transitions that are possible, but not observed\n",
    "    'feature.possible_transitions': True\n",
    "})"
   ]
  },
  {
   "cell_type": "code",
   "execution_count": 10,
   "metadata": {},
   "outputs": [
    {
     "data": {
      "text/plain": [
       "['feature.minfreq',\n",
       " 'feature.possible_states',\n",
       " 'feature.possible_transitions',\n",
       " 'c1',\n",
       " 'c2',\n",
       " 'max_iterations',\n",
       " 'num_memories',\n",
       " 'epsilon',\n",
       " 'period',\n",
       " 'delta',\n",
       " 'linesearch',\n",
       " 'max_linesearch']"
      ]
     },
     "execution_count": 10,
     "metadata": {},
     "output_type": "execute_result"
    }
   ],
   "source": [
    "trainer.params()"
   ]
  },
  {
   "cell_type": "code",
   "execution_count": 11,
   "metadata": {},
   "outputs": [
    {
     "name": "stdout",
     "output_type": "stream",
     "text": [
      "CPU times: user 4.12 s, sys: 2.68 ms, total: 4.13 s\n",
      "Wall time: 4.12 s\n"
     ]
    }
   ],
   "source": [
    "%%time\n",
    "trainer.train('cora.crfsuite')"
   ]
  },
  {
   "cell_type": "code",
   "execution_count": 12,
   "metadata": {},
   "outputs": [
    {
     "name": "stdout",
     "output_type": "stream",
     "text": [
      "-rw-rw-r-- 1 shayan shayan 1.2M Mar 19 20:40 ./cora.crfsuite\r\n"
     ]
    }
   ],
   "source": [
    "!ls -lh ./cora.crfsuite"
   ]
  },
  {
   "cell_type": "code",
   "execution_count": 13,
   "metadata": {},
   "outputs": [
    {
     "data": {
      "text/plain": [
       "{'num': 50,\n",
       " 'scores': {},\n",
       " 'loss': 17616.848722,\n",
       " 'feature_norm': 142.824314,\n",
       " 'error_norm': 79.007628,\n",
       " 'active_features': 17480,\n",
       " 'linesearch_trials': 1,\n",
       " 'linesearch_step': 1.0,\n",
       " 'time': 0.076}"
      ]
     },
     "execution_count": 13,
     "metadata": {},
     "output_type": "execute_result"
    }
   ],
   "source": [
    "trainer.logparser.last_iteration"
   ]
  },
  {
   "cell_type": "code",
   "execution_count": 14,
   "metadata": {},
   "outputs": [
    {
     "data": {
      "text/plain": [
       "<contextlib.closing at 0x7f8a6d171630>"
      ]
     },
     "execution_count": 14,
     "metadata": {},
     "output_type": "execute_result"
    }
   ],
   "source": [
    "tagger = pycrfsuite.Tagger()\n",
    "tagger.open('cora.crfsuite')"
   ]
  },
  {
   "cell_type": "code",
   "execution_count": 15,
   "metadata": {},
   "outputs": [
    {
     "name": "stdout",
     "output_type": "stream",
     "text": [
      "Top likely transitions:\n",
      "Artificial_Intelligence -> Artificial_Intelligence 4.302239\n",
      "Information_Retrieval -> Information_Retrieval 2.993907\n",
      "Data_Structures__Algorithms_and_Theory -> Data_Structures__Algorithms_and_Theory 2.818890\n",
      "Programming -> Programming 2.779787\n",
      "Databases -> Databases 1.999635\n",
      "Hardware_and_Architecture -> Hardware_and_Architecture 1.903791\n",
      "Networking -> Networking 1.693120\n",
      "Information_Retrieval -> Artificial_Intelligence 1.672966\n",
      "Encryption_and_Compression -> Encryption_and_Compression 1.661289\n",
      "Human_Computer_Interaction -> Human_Computer_Interaction 1.594626\n",
      "Artificial_Intelligence -> Information_Retrieval 1.570762\n",
      "Data_Structures__Algorithms_and_Theory -> Artificial_Intelligence 1.490430\n",
      "Artificial_Intelligence -> Data_Structures__Algorithms_and_Theory 1.364679\n",
      "Artificial_Intelligence -> Programming 1.023581\n",
      "Programming -> Artificial_Intelligence 0.990691\n",
      "\n",
      "Top unlikely transitions:\n",
      "Encryption_and_Compression -> Information_Retrieval -0.961631\n",
      "Human_Computer_Interaction -> Hardware_and_Architecture -1.078680\n",
      "Operating_Systems -> Encryption_and_Compression -1.160224\n",
      "Encryption_and_Compression -> Operating_Systems -1.169167\n",
      "Operating_Systems -> Information_Retrieval -1.189825\n",
      "Hardware_and_Architecture -> Information_Retrieval -1.189855\n",
      "Information_Retrieval -> Operating_Systems -1.194773\n",
      "Databases -> Encryption_and_Compression -1.255756\n",
      "Networking -> Databases -1.347396\n",
      "Hardware_and_Architecture -> Human_Computer_Interaction -1.375211\n",
      "Databases -> Hardware_and_Architecture -1.377028\n",
      "Encryption_and_Compression -> Databases -1.533116\n",
      "Databases -> Networking -1.541704\n",
      "Encryption_and_Compression -> Hardware_and_Architecture -1.745337\n",
      "Hardware_and_Architecture -> Encryption_and_Compression -2.284687\n"
     ]
    }
   ],
   "source": [
    "from collections import Counter\n",
    "info = tagger.info()\n",
    "\n",
    "def print_transitions(trans_features):\n",
    "    for (label_from, label_to), weight in trans_features:\n",
    "        print(\"%-6s -> %-7s %0.6f\" % (label_from, label_to, weight))\n",
    "\n",
    "print(\"Top likely transitions:\")\n",
    "print_transitions(Counter(info.transitions).most_common(15))\n",
    "\n",
    "print(\"\\nTop unlikely transitions:\")\n",
    "print_transitions(Counter(info.transitions).most_common()[-15:])"
   ]
  },
  {
   "cell_type": "code",
   "execution_count": 16,
   "metadata": {},
   "outputs": [],
   "source": [
    "def full_classification_report(y_true, y_pred):\n",
    "    lb = LabelBinarizer()\n",
    "    y_true_combined = lb.fit_transform(list(chain.from_iterable(y_true)))\n",
    "    y_pred_combined = lb.transform(list(chain.from_iterable(y_pred)))\n",
    "        \n",
    "    tagset = set(lb.classes_) - {'O'}\n",
    "    tagset = sorted(tagset, key=lambda tag: tag.split('-', 1)[::-1])\n",
    "    class_indices = {cls: idx for idx, cls in enumerate(lb.classes_)}\n",
    "    \n",
    "    return classification_report(\n",
    "        y_true_combined,\n",
    "        y_pred_combined,\n",
    "        labels = [class_indices[cls] for cls in tagset],\n",
    "        target_names = tagset,\n",
    "    )"
   ]
  },
  {
   "cell_type": "code",
   "execution_count": 17,
   "metadata": {},
   "outputs": [
    {
     "name": "stdout",
     "output_type": "stream",
     "text": [
      "CPU times: user 25.7 ms, sys: 3.49 ms, total: 29.2 ms\n",
      "Wall time: 29 ms\n"
     ]
    }
   ],
   "source": [
    "%%time\n",
    "y_pred = [tagger.tag(xseq) for xseq in features_test]"
   ]
  },
  {
   "cell_type": "code",
   "execution_count": 19,
   "metadata": {},
   "outputs": [
    {
     "name": "stdout",
     "output_type": "stream",
     "text": [
      "                                        precision    recall  f1-score   support\n",
      "\n",
      "               Artificial_Intelligence       0.74      0.94      0.83       795\n",
      "Data_Structures__Algorithms_and_Theory       0.74      0.56      0.64       374\n",
      "                             Databases       0.85      0.84      0.85       241\n",
      "            Encryption_and_Compression       0.44      0.50      0.47        32\n",
      "             Hardware_and_Architecture       0.63      0.41      0.50        98\n",
      "            Human_Computer_Interaction       0.72      0.50      0.59       114\n",
      "                 Information_Retrieval       0.33      0.40      0.36        10\n",
      "                            Networking       0.62      0.44      0.52       255\n",
      "                     Operating_Systems       0.79      0.83      0.81       878\n",
      "                           Programming       0.80      0.75      0.77       485\n",
      "\n",
      "                             micro avg       0.76      0.76      0.76      3282\n",
      "                             macro avg       0.67      0.62      0.63      3282\n",
      "                          weighted avg       0.75      0.76      0.75      3282\n",
      "                           samples avg       0.76      0.76      0.76      3282\n",
      "\n"
     ]
    }
   ],
   "source": [
    "print(full_classification_report(labels_test, y_pred))"
   ]
  },
  {
   "cell_type": "code",
   "execution_count": null,
   "metadata": {},
   "outputs": [],
   "source": []
  }
 ],
 "metadata": {
  "kernelspec": {
   "display_name": "Python 3",
   "language": "python",
   "name": "python3"
  },
  "language_info": {
   "codemirror_mode": {
    "name": "ipython",
    "version": 3
   },
   "file_extension": ".py",
   "mimetype": "text/x-python",
   "name": "python",
   "nbconvert_exporter": "python",
   "pygments_lexer": "ipython3",
   "version": "3.6.7"
  },
  "toc": {
   "base_numbering": 1,
   "nav_menu": {},
   "number_sections": true,
   "sideBar": true,
   "skip_h1_title": false,
   "title_cell": "Table of Contents",
   "title_sidebar": "Contents",
   "toc_cell": false,
   "toc_position": {},
   "toc_section_display": true,
   "toc_window_display": false
  },
  "varInspector": {
   "cols": {
    "lenName": 16,
    "lenType": 16,
    "lenVar": 40
   },
   "kernels_config": {
    "python": {
     "delete_cmd_postfix": "",
     "delete_cmd_prefix": "del ",
     "library": "var_list.py",
     "varRefreshCmd": "print(var_dic_list())"
    },
    "r": {
     "delete_cmd_postfix": ") ",
     "delete_cmd_prefix": "rm(",
     "library": "var_list.r",
     "varRefreshCmd": "cat(var_dic_list()) "
    }
   },
   "types_to_exclude": [
    "module",
    "function",
    "builtin_function_or_method",
    "instance",
    "_Feature"
   ],
   "window_display": false
  }
 },
 "nbformat": 4,
 "nbformat_minor": 2
}
