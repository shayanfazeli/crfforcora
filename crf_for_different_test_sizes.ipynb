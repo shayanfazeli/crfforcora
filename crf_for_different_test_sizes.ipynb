{
 "cells": [
  {
   "cell_type": "code",
   "execution_count": 1,
   "metadata": {},
   "outputs": [],
   "source": [
    "from itertools import chain\n",
    "import nltk\n",
    "from sklearn.metrics import classification_report, confusion_matrix\n",
    "from sklearn.preprocessing import LabelBinarizer\n",
    "import sklearn\n",
    "import pycrfsuite\n",
    "import pickle\n",
    "import pdb"
   ]
  },
  {
   "cell_type": "code",
   "execution_count": 2,
   "metadata": {},
   "outputs": [],
   "source": [
    "data = pickle.load(open('./data/restructured_dataset.pkl', 'rb'))"
   ]
  },
  {
   "cell_type": "code",
   "execution_count": 3,
   "metadata": {},
   "outputs": [],
   "source": [
    "def process_label(label):\n",
    "    if label[0] == '/':\n",
    "        return label.split('/')[1]\n",
    "    else:\n",
    "        return label\n",
    "def divide_to_test_and_train(features, labels, test_nodes=None, ids=None):\n",
    "    if test_nodes is None:\n",
    "        last_train_index = 80000\n",
    "        features_train = features[:last_train_index]\n",
    "        labels_train = labels[:last_train_index]\n",
    "        features_test = features[last_train_index:]\n",
    "        labels_test = labels[last_train_index:]\n",
    "    else:\n",
    "        assert(ids is not None)\n",
    "        features_train = []\n",
    "        labels_train = []\n",
    "        features_test = []\n",
    "        labels_test = []\n",
    "        \n",
    "        for i in range(len(features)):\n",
    "            if (ids[i][0] in test_nodes) or (ids[i][1] in test_nodes):\n",
    "                features_test.append(features[i])\n",
    "                labels_test.append(labels[i])\n",
    "            else:\n",
    "                features_train.append(features[i])\n",
    "                labels_train.append(labels[i])\n",
    "    return features_train, labels_train, features_test, labels_test"
   ]
  },
  {
   "cell_type": "code",
   "execution_count": 4,
   "metadata": {},
   "outputs": [],
   "source": [
    "def print_for_this_number_of_test_nodes(minimum_number_of_test_nodes_wanted):\n",
    "\n",
    "    # another prototype\n",
    "    features = []\n",
    "    labels = []\n",
    "    ids = []\n",
    "\n",
    "    test_nodes = []\n",
    "    treat_as_test_node = False\n",
    "    for citing_id in data['edges'].keys():\n",
    "        cited_ids = data['edges'][citing_id]\n",
    "        if len(test_nodes) < minimum_number_of_test_nodes_wanted:\n",
    "            treat_as_test_node = True\n",
    "        if citing_id in data['features_for_id'].keys() and citing_id in data['label_for_id'].keys():\n",
    "            for i in range(len(cited_ids)):\n",
    "                if cited_ids[i] in data['features_for_id'].keys() and cited_ids[i] in data['label_for_id'].keys():\n",
    "                    ids.append([citing_id, cited_ids[i]])\n",
    "                    the_elements = [\n",
    "                        data['features_for_id'][citing_id], data['features_for_id'][cited_ids[i]]\n",
    "                    ]\n",
    "                    the_labels = [\n",
    "                        process_label(data['label_for_id'][citing_id]), process_label(data['label_for_id'][cited_ids[i]])\n",
    "                    ]\n",
    "                    if not (the_labels[0] == \"NOLABEL\" or the_labels[1] == \"NOLABEL\"):\n",
    "                        features.append(the_elements)\n",
    "                        labels.append(the_labels)\n",
    "                        if treat_as_test_node:\n",
    "                            test_nodes += [citing_id, cited_ids[i]]\n",
    "                            test_nodes = list(set(test_nodes))\n",
    "        treat_as_test_node = False\n",
    "\n",
    "    features_train, labels_train, features_test, labels_test = divide_to_test_and_train(features, labels, test_nodes, ids)\n",
    "\n",
    "    trainer = pycrfsuite.Trainer(verbose=False)\n",
    "\n",
    "    for xseq, yseq in zip(features_train, labels_train):\n",
    "        try:\n",
    "            trainer.append(xseq, yseq)\n",
    "        except:\n",
    "            pdb.set_trace()\n",
    "\n",
    "    trainer.set_params({\n",
    "        'c1': 1.0,   # coefficient for L1 penalty\n",
    "        'c2': 1e-3,  # coefficient for L2 penalty\n",
    "        'max_iterations': 50,  # stop earlier\n",
    "\n",
    "        # include transitions that are possible, but not observed\n",
    "        'feature.possible_transitions': True\n",
    "    })\n",
    "\n",
    "\n",
    "    trainer.train('cora%d.crfsuite' % minimum_number_of_test_nodes_wanted)\n",
    "\n",
    "    tagger = pycrfsuite.Tagger()\n",
    "    tagger.open('cora%d.crfsuite' % minimum_number_of_test_nodes_wanted)\n",
    "\n",
    "    from collections import Counter\n",
    "    info = tagger.info()\n",
    "\n",
    "    def print_transitions(trans_features):\n",
    "        for (label_from, label_to), weight in trans_features:\n",
    "            print(\"%-6s -> %-7s %0.6f\" % (label_from, label_to, weight))\n",
    "\n",
    "    print(\"Top likely transitions:\")\n",
    "    print_transitions(Counter(info.transitions).most_common(15))\n",
    "\n",
    "    print(\"\\nTop unlikely transitions:\")\n",
    "    print_transitions(Counter(info.transitions).most_common()[-15:])\n",
    "\n",
    "    def full_classification_report(y_true, y_pred):\n",
    "        lb = LabelBinarizer()\n",
    "        y_true_combined = lb.fit_transform(list(chain.from_iterable(y_true)))\n",
    "        y_pred_combined = lb.transform(list(chain.from_iterable(y_pred)))\n",
    "\n",
    "        tagset = set(lb.classes_) - {'O'}\n",
    "        tagset = sorted(tagset, key=lambda tag: tag.split('-', 1)[::-1])\n",
    "        class_indices = {cls: idx for idx, cls in enumerate(lb.classes_)}\n",
    "\n",
    "        return classification_report(\n",
    "            y_true_combined,\n",
    "            y_pred_combined,\n",
    "            labels = [class_indices[cls] for cls in tagset],\n",
    "            target_names = tagset,\n",
    "        )\n",
    "\n",
    "\n",
    "    y_pred = [tagger.tag(xseq) for xseq in features_test]\n",
    "\n",
    "    print(full_classification_report(labels_test, y_pred))"
   ]
  },
  {
   "cell_type": "markdown",
   "metadata": {},
   "source": [
    "#### Test size: 50"
   ]
  },
  {
   "cell_type": "code",
   "execution_count": 6,
   "metadata": {
    "scrolled": true
   },
   "outputs": [
    {
     "name": "stdout",
     "output_type": "stream",
     "text": [
      "Top likely transitions:\n",
      "Artificial_Intelligence -> Artificial_Intelligence 5.044041\n",
      "Programming -> Programming 2.169742\n",
      "Encryption_and_Compression -> Encryption_and_Compression 2.058263\n",
      "Databases -> Databases 1.982924\n",
      "Human_Computer_Interaction -> Human_Computer_Interaction 1.954938\n",
      "Networking -> Networking 1.948717\n",
      "Hardware_and_Architecture -> Hardware_and_Architecture 1.905854\n",
      "Information_Retrieval -> Information_Retrieval 1.649868\n",
      "Data_Structures__Algorithms_and_Theory -> Data_Structures__Algorithms_and_Theory 1.554492\n",
      "Information_Retrieval -> Artificial_Intelligence 1.344639\n",
      "Artificial_Intelligence -> Information_Retrieval 1.297929\n",
      "Operating_Systems -> Operating_Systems 1.279639\n",
      "Data_Structures__Algorithms_and_Theory -> Artificial_Intelligence 1.243754\n",
      "Human_Computer_Interaction -> Artificial_Intelligence 1.114837\n",
      "Programming -> Artificial_Intelligence 1.101798\n",
      "\n",
      "Top unlikely transitions:\n",
      "Databases -> Networking -1.075442\n",
      "Information_Retrieval -> Programming -1.198018\n",
      "Encryption_and_Compression -> Databases -1.282932\n",
      "Hardware_and_Architecture -> Human_Computer_Interaction -1.362906\n",
      "Encryption_and_Compression -> Information_Retrieval -1.445341\n",
      "Databases -> Hardware_and_Architecture -1.465835\n",
      "Information_Retrieval -> Operating_Systems -1.516952\n",
      "Programming -> Information_Retrieval -1.574773\n",
      "Information_Retrieval -> Hardware_and_Architecture -1.585203\n",
      "Operating_Systems -> Information_Retrieval -1.595762\n",
      "Encryption_and_Compression -> Hardware_and_Architecture -1.603582\n",
      "Hardware_and_Architecture -> Information_Retrieval -1.715541\n",
      "Data_Structures__Algorithms_and_Theory -> Information_Retrieval -1.844739\n",
      "Hardware_and_Architecture -> Encryption_and_Compression -2.040119\n",
      "Information_Retrieval -> Data_Structures__Algorithms_and_Theory -2.249526\n",
      "                                        precision    recall  f1-score   support\n",
      "\n",
      "               Artificial_Intelligence       0.93      0.98      0.95       621\n",
      "Data_Structures__Algorithms_and_Theory       0.95      0.94      0.94       191\n",
      "                             Databases       0.94      0.94      0.94        66\n",
      "            Encryption_and_Compression       0.93      0.88      0.91        60\n",
      "             Hardware_and_Architecture       1.00      0.69      0.81        51\n",
      "            Human_Computer_Interaction       0.80      0.87      0.83        86\n",
      "                 Information_Retrieval       0.89      0.71      0.79        24\n",
      "                            Networking       0.94      0.95      0.95        84\n",
      "                     Operating_Systems       0.97      0.93      0.95       272\n",
      "                           Programming       0.96      0.96      0.96       279\n",
      "\n",
      "                             micro avg       0.94      0.94      0.94      1734\n",
      "                             macro avg       0.93      0.88      0.90      1734\n",
      "                          weighted avg       0.94      0.94      0.94      1734\n",
      "                           samples avg       0.94      0.94      0.94      1734\n",
      "\n"
     ]
    }
   ],
   "source": [
    "print_for_this_number_of_test_nodes(50)"
   ]
  },
  {
   "cell_type": "markdown",
   "metadata": {},
   "source": [
    "#### Test size: 100"
   ]
  },
  {
   "cell_type": "code",
   "execution_count": 7,
   "metadata": {},
   "outputs": [
    {
     "name": "stdout",
     "output_type": "stream",
     "text": [
      "Top likely transitions:\n",
      "Artificial_Intelligence -> Artificial_Intelligence 4.801341\n",
      "Programming -> Programming 2.313652\n",
      "Hardware_and_Architecture -> Hardware_and_Architecture 2.099289\n",
      "Encryption_and_Compression -> Encryption_and_Compression 2.080741\n",
      "Networking -> Networking 2.076263\n",
      "Data_Structures__Algorithms_and_Theory -> Data_Structures__Algorithms_and_Theory 1.884011\n",
      "Information_Retrieval -> Information_Retrieval 1.868383\n",
      "Human_Computer_Interaction -> Human_Computer_Interaction 1.846793\n",
      "Databases -> Databases 1.758569\n",
      "Information_Retrieval -> Artificial_Intelligence 1.340177\n",
      "Data_Structures__Algorithms_and_Theory -> Artificial_Intelligence 1.300631\n",
      "Artificial_Intelligence -> Information_Retrieval 1.240355\n",
      "Artificial_Intelligence -> Data_Structures__Algorithms_and_Theory 1.141417\n",
      "Artificial_Intelligence -> Programming 1.060729\n",
      "Programming -> Artificial_Intelligence 1.057742\n",
      "\n",
      "Top unlikely transitions:\n",
      "Networking -> Databases -1.138574\n",
      "Databases -> Networking -1.171651\n",
      "Encryption_and_Compression -> Information_Retrieval -1.198529\n",
      "Encryption_and_Compression -> Databases -1.259997\n",
      "Hardware_and_Architecture -> Human_Computer_Interaction -1.276981\n",
      "Information_Retrieval -> Hardware_and_Architecture -1.334173\n",
      "Databases -> Hardware_and_Architecture -1.379407\n",
      "Encryption_and_Compression -> Hardware_and_Architecture -1.401861\n",
      "Programming -> Information_Retrieval -1.446535\n",
      "Information_Retrieval -> Operating_Systems -1.568920\n",
      "Data_Structures__Algorithms_and_Theory -> Information_Retrieval -1.618090\n",
      "Operating_Systems -> Information_Retrieval -1.738250\n",
      "Hardware_and_Architecture -> Information_Retrieval -1.748248\n",
      "Information_Retrieval -> Data_Structures__Algorithms_and_Theory -2.098352\n",
      "Hardware_and_Architecture -> Encryption_and_Compression -2.154321\n",
      "                                        precision    recall  f1-score   support\n",
      "\n",
      "               Artificial_Intelligence       0.94      0.98      0.96      1040\n",
      "Data_Structures__Algorithms_and_Theory       0.96      0.93      0.94       281\n",
      "                             Databases       0.97      0.96      0.97       133\n",
      "            Encryption_and_Compression       0.94      0.85      0.89       138\n",
      "             Hardware_and_Architecture       0.98      0.81      0.89        78\n",
      "            Human_Computer_Interaction       0.88      0.90      0.89       166\n",
      "                 Information_Retrieval       0.93      0.80      0.86        35\n",
      "                            Networking       0.90      0.96      0.93       139\n",
      "                     Operating_Systems       0.97      0.92      0.95       442\n",
      "                           Programming       0.96      0.96      0.96       454\n",
      "\n",
      "                             micro avg       0.94      0.94      0.94      2906\n",
      "                             macro avg       0.94      0.91      0.92      2906\n",
      "                          weighted avg       0.95      0.94      0.94      2906\n",
      "                           samples avg       0.94      0.94      0.94      2906\n",
      "\n"
     ]
    }
   ],
   "source": [
    "print_for_this_number_of_test_nodes(100)"
   ]
  },
  {
   "cell_type": "markdown",
   "metadata": {},
   "source": [
    "#### Test size: 20000"
   ]
  },
  {
   "cell_type": "markdown",
   "metadata": {},
   "source": [
    "See the f1 drop?"
   ]
  },
  {
   "cell_type": "code",
   "execution_count": 9,
   "metadata": {},
   "outputs": [
    {
     "name": "stdout",
     "output_type": "stream",
     "text": [
      "Top likely transitions:\n",
      "Artificial_Intelligence -> Artificial_Intelligence 3.957683\n",
      "Human_Computer_Interaction -> Human_Computer_Interaction 3.277456\n",
      "Information_Retrieval -> Information_Retrieval 2.982195\n",
      "Encryption_and_Compression -> Encryption_and_Compression 2.958465\n",
      "Programming -> Programming 2.702600\n",
      "Hardware_and_Architecture -> Hardware_and_Architecture 2.626303\n",
      "Databases -> Databases 2.491668\n",
      "Data_Structures__Algorithms_and_Theory -> Data_Structures__Algorithms_and_Theory 2.110655\n",
      "Networking -> Networking 1.785344\n",
      "Operating_Systems -> Operating_Systems 1.639267\n",
      "Artificial_Intelligence -> Information_Retrieval 1.242835\n",
      "Information_Retrieval -> Artificial_Intelligence 0.880461\n",
      "Human_Computer_Interaction -> Artificial_Intelligence 0.665403\n",
      "Operating_Systems -> Programming 0.603918\n",
      "Artificial_Intelligence -> Programming 0.602625\n",
      "\n",
      "Top unlikely transitions:\n",
      "Databases -> Networking -0.994284\n",
      "Encryption_and_Compression -> Hardware_and_Architecture -1.083578\n",
      "Hardware_and_Architecture -> Databases -1.091078\n",
      "Encryption_and_Compression -> Human_Computer_Interaction -1.093142\n",
      "Hardware_and_Architecture -> Networking -1.105937\n",
      "Artificial_Intelligence -> Networking -1.151016\n",
      "Hardware_and_Architecture -> Encryption_and_Compression -1.166172\n",
      "Operating_Systems -> Information_Retrieval -1.194660\n",
      "Networking -> Data_Structures__Algorithms_and_Theory -1.295711\n",
      "Databases -> Hardware_and_Architecture -1.329347\n",
      "Encryption_and_Compression -> Databases -1.449149\n",
      "Networking -> Programming -1.548997\n",
      "Information_Retrieval -> Data_Structures__Algorithms_and_Theory -1.747783\n",
      "Encryption_and_Compression -> Programming -2.093059\n",
      "Networking -> Databases -2.302879\n",
      "                                        precision    recall  f1-score   support\n",
      "\n",
      "               Artificial_Intelligence       0.75      0.93      0.83     21159\n",
      "Data_Structures__Algorithms_and_Theory       0.77      0.65      0.71      4905\n",
      "                             Databases       0.83      0.65      0.73      2909\n",
      "            Encryption_and_Compression       0.83      0.59      0.69      2189\n",
      "             Hardware_and_Architecture       0.83      0.56      0.67      1918\n",
      "            Human_Computer_Interaction       0.77      0.51      0.62      2736\n",
      "                 Information_Retrieval       0.83      0.43      0.57       936\n",
      "                            Networking       0.80      0.67      0.73      3718\n",
      "                     Operating_Systems       0.78      0.76      0.77      8436\n",
      "                           Programming       0.80      0.77      0.78      8882\n",
      "\n",
      "                             micro avg       0.77      0.77      0.77     57788\n",
      "                             macro avg       0.80      0.65      0.71     57788\n",
      "                          weighted avg       0.78      0.77      0.77     57788\n",
      "                           samples avg       0.77      0.77      0.77     57788\n",
      "\n"
     ]
    }
   ],
   "source": [
    "print_for_this_number_of_test_nodes(20000)"
   ]
  },
  {
   "cell_type": "code",
   "execution_count": null,
   "metadata": {},
   "outputs": [],
   "source": []
  }
 ],
 "metadata": {
  "kernelspec": {
   "display_name": "Python 3",
   "language": "python",
   "name": "python3"
  },
  "language_info": {
   "codemirror_mode": {
    "name": "ipython",
    "version": 3
   },
   "file_extension": ".py",
   "mimetype": "text/x-python",
   "name": "python",
   "nbconvert_exporter": "python",
   "pygments_lexer": "ipython3",
   "version": "3.6.7"
  },
  "toc": {
   "base_numbering": 1,
   "nav_menu": {},
   "number_sections": true,
   "sideBar": true,
   "skip_h1_title": false,
   "title_cell": "Table of Contents",
   "title_sidebar": "Contents",
   "toc_cell": false,
   "toc_position": {},
   "toc_section_display": true,
   "toc_window_display": false
  },
  "varInspector": {
   "cols": {
    "lenName": 16,
    "lenType": 16,
    "lenVar": 40
   },
   "kernels_config": {
    "python": {
     "delete_cmd_postfix": "",
     "delete_cmd_prefix": "del ",
     "library": "var_list.py",
     "varRefreshCmd": "print(var_dic_list())"
    },
    "r": {
     "delete_cmd_postfix": ") ",
     "delete_cmd_prefix": "rm(",
     "library": "var_list.r",
     "varRefreshCmd": "cat(var_dic_list()) "
    }
   },
   "types_to_exclude": [
    "module",
    "function",
    "builtin_function_or_method",
    "instance",
    "_Feature"
   ],
   "window_display": false
  }
 },
 "nbformat": 4,
 "nbformat_minor": 2
}
