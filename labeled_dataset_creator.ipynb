{
 "cells": [
  {
   "cell_type": "markdown",
   "metadata": {},
   "source": [
    "### This file cleans restructured_dataset_v2.pkl by doing the following operations\n",
    "* Remove papers with no labels\n",
    "* Remove papers with no features\n",
    "* Remove edges for the above mentioned removed papers\n",
    "* Remove isolated papers which have no incomming or outgoing edge\n",
    "\n",
    "The new file is stored in **data/cleaned_dataset.pkl**\n",
    "\n",
    "At the end of this file you can see some statistical results that might be intersting and might help us learn the parameters for CRF"
   ]
  },
  {
   "cell_type": "markdown",
   "metadata": {},
   "source": [
    "# Parameters"
   ]
  },
  {
   "cell_type": "code",
   "execution_count": 1,
   "metadata": {},
   "outputs": [],
   "source": [
    "data_path = \"./data/\""
   ]
  },
  {
   "cell_type": "markdown",
   "metadata": {},
   "source": [
    "# Imports"
   ]
  },
  {
   "cell_type": "code",
   "execution_count": 2,
   "metadata": {},
   "outputs": [],
   "source": [
    "import pickle\n",
    "import numpy as np\n",
    "import matplotlib.pyplot as plt"
   ]
  },
  {
   "cell_type": "markdown",
   "metadata": {},
   "source": [
    "# Processing"
   ]
  },
  {
   "cell_type": "markdown",
   "metadata": {},
   "source": [
    "## Read the data"
   ]
  },
  {
   "cell_type": "code",
   "execution_count": 3,
   "metadata": {},
   "outputs": [],
   "source": [
    "with open(data_path+'restructured_dataset_v2.pkl', 'rb') as f:\n",
    "    data = pickle.load(f)"
   ]
  },
  {
   "cell_type": "code",
   "execution_count": 4,
   "metadata": {},
   "outputs": [
    {
     "data": {
      "text/plain": [
       "dict_keys(['postscript_for_id', 'label_for_id', 'edges', 'features_for_id'])"
      ]
     },
     "execution_count": 4,
     "metadata": {},
     "output_type": "execute_result"
    }
   ],
   "source": [
    "data.keys()"
   ]
  },
  {
   "cell_type": "code",
   "execution_count": 5,
   "metadata": {
    "scrolled": true
   },
   "outputs": [
    {
     "name": "stdout",
     "output_type": "stream",
     "text": [
      "36954\n",
      "36954\n",
      "35788\n",
      "19396\n"
     ]
    }
   ],
   "source": [
    "print(len(data['postscript_for_id']))\n",
    "print(len(data['label_for_id']))\n",
    "print(len(data['edges']))\n",
    "print(len(data['features_for_id']))"
   ]
  },
  {
   "cell_type": "markdown",
   "metadata": {},
   "source": [
    "## Get ids with label and id with features"
   ]
  },
  {
   "cell_type": "code",
   "execution_count": 6,
   "metadata": {},
   "outputs": [],
   "source": [
    "id_with_label = [x for x in data['label_for_id'].keys() if data['label_for_id'][x]!='NOLABEL']"
   ]
  },
  {
   "cell_type": "code",
   "execution_count": 7,
   "metadata": {},
   "outputs": [],
   "source": [
    "id_with_features = data['features_for_id'].keys()"
   ]
  },
  {
   "cell_type": "markdown",
   "metadata": {},
   "source": [
    "## Only keep entries with labels and features"
   ]
  },
  {
   "cell_type": "code",
   "execution_count": 8,
   "metadata": {},
   "outputs": [],
   "source": [
    "label_for_id = {i:data['label_for_id'][i].split('/')[1] for i in data['label_for_id'].keys() if i in id_with_label and i in id_with_features}"
   ]
  },
  {
   "cell_type": "code",
   "execution_count": 9,
   "metadata": {},
   "outputs": [],
   "source": [
    "edges = {i:data['edges'][i] for i in data['edges'].keys() if i in id_with_label and i in id_with_features}"
   ]
  },
  {
   "cell_type": "code",
   "execution_count": 10,
   "metadata": {},
   "outputs": [],
   "source": [
    "features_for_id = {i:data['features_for_id'][i] for i in data['edges'].keys() if i in id_with_label and i in id_with_features}"
   ]
  },
  {
   "cell_type": "code",
   "execution_count": 11,
   "metadata": {},
   "outputs": [],
   "source": [
    "postscript_for_id = {i:data['postscript_for_id'][i] for i in data['edges'].keys() if i in id_with_label and i in id_with_features}"
   ]
  },
  {
   "cell_type": "markdown",
   "metadata": {},
   "source": [
    "To make everything same length add empty list to edges for ids with no edges"
   ]
  },
  {
   "cell_type": "code",
   "execution_count": 12,
   "metadata": {},
   "outputs": [],
   "source": [
    "pids = label_for_id.keys()"
   ]
  },
  {
   "cell_type": "code",
   "execution_count": 13,
   "metadata": {},
   "outputs": [],
   "source": [
    "for pid in pids:\n",
    "    if pid not in edges:\n",
    "        edges[pid] = []"
   ]
  },
  {
   "cell_type": "markdown",
   "metadata": {},
   "source": [
    "## Iterate through the edges for each pid and remove edges for which we don't have label"
   ]
  },
  {
   "cell_type": "code",
   "execution_count": 14,
   "metadata": {},
   "outputs": [],
   "source": [
    "for pid in edges:\n",
    "    edges[pid] = [x for x in edges[pid] if x in pids]"
   ]
  },
  {
   "cell_type": "markdown",
   "metadata": {},
   "source": [
    "## Remove all the isolated papers. i.e not pointing to any node and not pointed by any node"
   ]
  },
  {
   "cell_type": "code",
   "execution_count": 15,
   "metadata": {},
   "outputs": [],
   "source": [
    "dead_end_pids = []\n",
    "for pid in edges.keys():\n",
    "    if not edges[pid]:\n",
    "        dead_end_pids.append(pid)"
   ]
  },
  {
   "cell_type": "code",
   "execution_count": 16,
   "metadata": {},
   "outputs": [
    {
     "data": {
      "text/plain": [
       "2251"
      ]
     },
     "execution_count": 16,
     "metadata": {},
     "output_type": "execute_result"
    }
   ],
   "source": [
    "len(dead_end_pids)"
   ]
  },
  {
   "cell_type": "code",
   "execution_count": 17,
   "metadata": {},
   "outputs": [],
   "source": [
    "cited_pids = set()\n",
    "for pid in edges.keys():\n",
    "    for cited in edges[pid]:\n",
    "        cited_pids.add(pid)"
   ]
  },
  {
   "cell_type": "code",
   "execution_count": 18,
   "metadata": {},
   "outputs": [],
   "source": [
    "isolated_pids = []\n",
    "for pid in dead_end_pids:\n",
    "    if pid not in cited_pids:\n",
    "        isolated_pids.append(pid)"
   ]
  },
  {
   "cell_type": "markdown",
   "metadata": {},
   "source": [
    "Turns out all the dead_end_pids are not cited by anyone so we can just remove entries for them. Now we remove the isolated papers"
   ]
  },
  {
   "cell_type": "code",
   "execution_count": 19,
   "metadata": {},
   "outputs": [],
   "source": [
    "output_dataset = {}\n",
    "output_dataset[\"label_for_id\"] = {i:label_for_id[i] for i in label_for_id.keys() if i not in isolated_pids}\n",
    "output_dataset[\"edges\"] = {i:edges[i] for i in edges.keys() if i not in isolated_pids}\n",
    "output_dataset[\"features_for_id\"] = {i:features_for_id[i] for i in features_for_id.keys() if i not in isolated_pids}\n",
    "output_dataset[\"postscript_for_id\"] = {i:postscript_for_id[i] for i in postscript_for_id.keys() if i not in isolated_pids}"
   ]
  },
  {
   "cell_type": "markdown",
   "metadata": {},
   "source": [
    "## Write to pickle"
   ]
  },
  {
   "cell_type": "code",
   "execution_count": 20,
   "metadata": {},
   "outputs": [],
   "source": [
    "pickle.dump(output_dataset, open(data_path + 'cleaned_dataset.pkl', 'wb'))"
   ]
  },
  {
   "cell_type": "markdown",
   "metadata": {},
   "source": [
    "## Understanding the data"
   ]
  },
  {
   "cell_type": "code",
   "execution_count": 21,
   "metadata": {},
   "outputs": [
    {
     "name": "stdout",
     "output_type": "stream",
     "text": [
      "13395\n",
      "13395\n",
      "13395\n",
      "13395\n"
     ]
    }
   ],
   "source": [
    "print(len(output_dataset['postscript_for_id']))\n",
    "print(len(output_dataset['label_for_id']))\n",
    "print(len(output_dataset['edges']))\n",
    "print(len(output_dataset['features_for_id']))"
   ]
  },
  {
   "cell_type": "code",
   "execution_count": 22,
   "metadata": {},
   "outputs": [
    {
     "name": "stdout",
     "output_type": "stream",
     "text": [
      "['ftp:##ftp.cs.purdue.edu#pub#hosking#papers#oopsla93.ps.gz', 'ftp:##ftp.cs.umass.edu#pub#osl#papers#oopsla93.ps.Z', 'http:##cobar.cs.umass.edu#pubfiles#ds7.ps.gz']\n",
      "Databases\n",
      "[52930, 52931, 52932, 743, 7957, 25, 26]\n",
      "['author0=hosking', 'author1=moss', 'author2=missing', 'title0=object', 'title1=fault', 'title2=handling', 'title3=persistent', 'title4=programming', 'title5=languages', 'title6=performance', 'title7=evaluation', 'publisher=missing', 'address=missing', 'year=1993']\n"
     ]
    }
   ],
   "source": [
    "print(output_dataset['postscript_for_id'][18])\n",
    "print(output_dataset['label_for_id'][18])\n",
    "print(output_dataset['edges'][18])\n",
    "print(output_dataset['features_for_id'][18])"
   ]
  },
  {
   "cell_type": "code",
   "execution_count": 23,
   "metadata": {},
   "outputs": [],
   "source": [
    "classes_count = {}\n",
    "for pid in output_dataset['label_for_id']:\n",
    "    if output_dataset['label_for_id'][pid] not in classes_count:\n",
    "        classes_count[output_dataset['label_for_id'][pid]] = 0\n",
    "    classes_count[output_dataset['label_for_id'][pid]] += 1"
   ]
  },
  {
   "cell_type": "code",
   "execution_count": 24,
   "metadata": {},
   "outputs": [
    {
     "data": {
      "text/plain": [
       "<BarContainer object of 10 artists>"
      ]
     },
     "execution_count": 24,
     "metadata": {},
     "output_type": "execute_result"
    },
    {
     "data": {
      "image/png": "[encoded data removed]",
      "text/plain": [
       "<Figure size 1440x504 with 1 Axes>"
      ]
     },
     "metadata": {
      "needs_background": "light"
     },
     "output_type": "display_data"
    }
   ],
   "source": [
    "plt.figure(figsize=(20,7))\n",
    "plt.xticks(rotation=-30)\n",
    "plt.title(\"Plot of number of papers vs classes\")\n",
    "plt.xlabel(\"Class\")\n",
    "plt.ylabel(\"Number of papers\")\n",
    "plt.bar(classes_count.keys(), classes_count.values(), width=0.8, color='b')"
   ]
  },
  {
   "cell_type": "code",
   "execution_count": 25,
   "metadata": {},
   "outputs": [],
   "source": [
    "edges_count = {}\n",
    "for pid in output_dataset['edges']:\n",
    "    if len(output_dataset['edges'][pid]) not in edges_count:\n",
    "        edges_count[len(output_dataset['edges'][pid])] = 0\n",
    "    edges_count[len(output_dataset['edges'][pid])] += 1"
   ]
  },
  {
   "cell_type": "code",
   "execution_count": 26,
   "metadata": {},
   "outputs": [
    {
     "data": {
      "text/plain": [
       "<BarContainer object of 51 artists>"
      ]
     },
     "execution_count": 26,
     "metadata": {},
     "output_type": "execute_result"
    },
    {
     "data": {
      "image/png": "[encoded data removed]",
      "text/plain": [
       "<Figure size 1080x504 with 1 Axes>"
      ]
     },
     "metadata": {
      "needs_background": "light"
     },
     "output_type": "display_data"
    }
   ],
   "source": [
    "plt.figure(figsize=(15,7))\n",
    "plt.title(\"Plot of number of outgoing edges per paper\")\n",
    "plt.xlabel(\"Number of outgoing edges\")\n",
    "plt.ylabel(\"Number of papers\")\n",
    "plt.bar(edges_count.keys(), edges_count.values(), width=1, color='g')"
   ]
  }
 ],
 "metadata": {
  "kernelspec": {
   "display_name": "Python 3",
   "language": "python",
   "name": "python3"
  },
  "language_info": {
   "codemirror_mode": {
    "name": "ipython",
    "version": 3
   },
   "file_extension": ".py",
   "mimetype": "text/x-python",
   "name": "python",
   "nbconvert_exporter": "python",
   "pygments_lexer": "ipython3",
   "version": "3.6.8"
  }
 },
 "nbformat": 4,
 "nbformat_minor": 2
}
